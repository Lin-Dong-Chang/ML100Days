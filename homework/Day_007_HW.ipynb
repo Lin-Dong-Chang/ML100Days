{
 "metadata": {
  "language_info": {
   "codemirror_mode": {
    "name": "ipython",
    "version": 3
   },
   "file_extension": ".py",
   "mimetype": "text/x-python",
   "name": "python",
   "nbconvert_exporter": "python",
   "pygments_lexer": "ipython3",
   "version": "3.9.1-final"
  },
  "orig_nbformat": 2,
  "kernelspec": {
   "name": "python3",
   "display_name": "Python 3",
   "language": "python"
  }
 },
 "nbformat": 4,
 "nbformat_minor": 2,
 "cells": [
  {
   "source": [
    "#### 1.運用array1計算反矩陣，乘上原矩陣，並觀察是否為單位矩陣?"
   ],
   "cell_type": "markdown",
   "metadata": {}
  },
  {
   "cell_type": "code",
   "execution_count": 1,
   "metadata": {},
   "outputs": [
    {
     "output_type": "stream",
     "name": "stdout",
     "text": [
      "no, it is not a identity matrix\n"
     ]
    },
    {
     "output_type": "execute_result",
     "data": {
      "text/plain": [
       "(array([[ 1.00000000e+00, -5.55111512e-17],\n",
       "        [-1.11022302e-16,  1.00000000e+00]]),\n",
       " array([[1., 0.],\n",
       "        [0., 1.]]))"
      ]
     },
     "metadata": {},
     "execution_count": 1
    }
   ],
   "source": [
    "import numpy as np\n",
    "array1 = np.array([[10, 8], [3, 5]])\n",
    "invarr = np.linalg.inv(array1)\n",
    "if (np.dot(invarr,array1) == np.identity(array1.shape[0])).all():\n",
    "    print(\"yes, it is a identity matrix\")\n",
    "else:\n",
    "    print(\"no, it is not a identity matrix\")\n",
    "\n",
    "np.dot(invarr,array1) , np.identity(array1.shape[0]) \n",
    "#但從output來看原本該為0的地方得出的數值也趨近於0，故仍為單位矩陣\n"
   ]
  },
  {
   "source": [
    "#### 運用上列array計算特徵值、特徵向量\n"
   ],
   "cell_type": "markdown",
   "metadata": {}
  },
  {
   "cell_type": "code",
   "execution_count": 2,
   "metadata": {},
   "outputs": [
    {
     "output_type": "stream",
     "name": "stdout",
     "text": [
      "eigenvalues: [13.  2.] \neigenvevtors [[ 0.93632918 -0.70710678]\n [ 0.35112344  0.70710678]]\n"
     ]
    }
   ],
   "source": [
    "w, v = np.linalg.eig(array1)\n",
    "print(\"eigenvalues:\",w,\"\\neigenvevtors\",v)"
   ]
  },
  {
   "source": [
    "#### 運用上列array計算SVD"
   ],
   "cell_type": "markdown",
   "metadata": {}
  },
  {
   "cell_type": "code",
   "execution_count": 3,
   "metadata": {},
   "outputs": [
    {
     "output_type": "stream",
     "name": "stdout",
     "text": [
      "u: [[-0.91663818 -0.39971796]\n [-0.39971796  0.91663818]]\ns: [13.94721714  1.86417116]\nvh: [[-0.74319741 -0.6690722 ]\n [-0.6690722   0.74319741]]\n"
     ]
    }
   ],
   "source": [
    "u, s ,vh = np.linalg.svd(array1)\n",
    "print(\"u:\",u)\n",
    "print(\"s:\",s)\n",
    "print(\"vh:\",vh)"
   ]
  },
  {
   "cell_type": "code",
   "execution_count": null,
   "metadata": {},
   "outputs": [],
   "source": []
  }
 ]
}