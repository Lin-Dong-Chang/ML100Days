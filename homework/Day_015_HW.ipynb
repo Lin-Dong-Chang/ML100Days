{
 "metadata": {
  "language_info": {
   "codemirror_mode": {
    "name": "ipython",
    "version": 3
   },
   "file_extension": ".py",
   "mimetype": "text/x-python",
   "name": "python",
   "nbconvert_exporter": "python",
   "pygments_lexer": "ipython3",
   "version": "3.8.6"
  },
  "orig_nbformat": 2,
  "kernelspec": {
   "name": "python3",
   "display_name": "Python 3.8.6 64-bit ('research': conda)",
   "metadata": {
    "interpreter": {
     "hash": "dbaf8fe1d29edef774e437acfa0534618c08281dad294fcd0be36a052e89514b"
    }
   }
  }
 },
 "nbformat": 4,
 "nbformat_minor": 2,
 "cells": [
  {
   "source": [
    "### 運用下列分數資料分析\n",
    "#### a.  找出全年級各科成績最高分與最低分？"
   ],
   "cell_type": "markdown",
   "metadata": {}
  },
  {
   "cell_type": "code",
   "execution_count": 1,
   "metadata": {},
   "outputs": [
    {
     "output_type": "execute_result",
     "data": {
      "text/plain": [
       "     math_score  english_score  chinese_score\n",
       "max          98             90             89\n",
       "min          20             40             23"
      ],
      "text/html": "<div>\n<style scoped>\n    .dataframe tbody tr th:only-of-type {\n        vertical-align: middle;\n    }\n\n    .dataframe tbody tr th {\n        vertical-align: top;\n    }\n\n    .dataframe thead th {\n        text-align: right;\n    }\n</style>\n<table border=\"1\" class=\"dataframe\">\n  <thead>\n    <tr style=\"text-align: right;\">\n      <th></th>\n      <th>math_score</th>\n      <th>english_score</th>\n      <th>chinese_score</th>\n    </tr>\n  </thead>\n  <tbody>\n    <tr>\n      <th>max</th>\n      <td>98</td>\n      <td>90</td>\n      <td>89</td>\n    </tr>\n    <tr>\n      <th>min</th>\n      <td>20</td>\n      <td>40</td>\n      <td>23</td>\n    </tr>\n  </tbody>\n</table>\n</div>"
     },
     "metadata": {},
     "execution_count": 1
    }
   ],
   "source": [
    "import pandas as pd\n",
    "\n",
    "score_df = pd.DataFrame([[1,50,80,70,'boy',1],[2,60,45,50,'boy',2],[3,98,43,55,'boy',1],[4,70,69,89,'boy',2],[5,56,79,60,'girl',1],[6,60,68,55,'girl',2],[7,45,70,77,'girl',1],[8,55,77,76,'girl',2],[9,25,57,60,'girl',1],[10,88,40,43,'girl',3],[11,25,60,45,'boy',3],[12,80,60,23,'boy',3],[13,20,90,66,'girl',3],[14,50,50,50,'girl',3],[15,89,67,77,'girl',3]],columns=['student_id','math_score','english_score','chinese_score','sex','class'])\n",
    "\n",
    "score_df.loc[:,'math_score':'chinese_score'].agg(['max','min'])"
   ]
  },
  {
   "source": [
    "#### b. 找出數學班平均最高的班級？"
   ],
   "cell_type": "markdown",
   "metadata": {}
  },
  {
   "cell_type": "code",
   "execution_count": 2,
   "metadata": {},
   "outputs": [
    {
     "output_type": "execute_result",
     "data": {
      "text/plain": [
       "2"
      ]
     },
     "metadata": {},
     "execution_count": 2
    }
   ],
   "source": [
    "score_df.groupby(['class']).mean().loc[:,'math_score'].idxmax() #返回最大值的index "
   ]
  },
  {
   "source": [
    "#### c. 分析全校女生與男生國文平均差幾分？"
   ],
   "cell_type": "markdown",
   "metadata": {}
  },
  {
   "cell_type": "code",
   "execution_count": 3,
   "metadata": {},
   "outputs": [
    {
     "output_type": "execute_result",
     "data": {
      "text/plain": [
       "7.333333333333329"
      ]
     },
     "metadata": {},
     "execution_count": 3
    }
   ],
   "source": [
    "sex_mean = score_df.groupby(['sex']).chinese_score.mean()\n",
    "abs(sex_mean['boy']-sex_mean['girl'])\n"
   ]
  }
 ]
}