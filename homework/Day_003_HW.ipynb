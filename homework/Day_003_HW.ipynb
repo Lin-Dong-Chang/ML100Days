{
 "metadata": {
  "language_info": {
   "codemirror_mode": {
    "name": "ipython",
    "version": 3
   },
   "file_extension": ".py",
   "mimetype": "text/x-python",
   "name": "python",
   "nbconvert_exporter": "python",
   "pygments_lexer": "ipython3",
   "version": "3.9.1-final"
  },
  "orig_nbformat": 2,
  "kernelspec": {
   "name": "python3",
   "display_name": "Python 3",
   "language": "python"
  }
 },
 "nbformat": 4,
 "nbformat_minor": 2,
 "cells": [
  {
   "source": [
    "### Formula :$$G_{dB} = 20\\log_{10} (\\frac{V_{1}}{V_{0}})$$\n",
    "#### V0 為 20μPa (聽覺閥)"
   ],
   "cell_type": "markdown",
   "metadata": {}
  },
  {
   "source": [
    "### 1"
   ],
   "cell_type": "markdown",
   "metadata": {}
  },
  {
   "cell_type": "code",
   "execution_count": 1,
   "metadata": {},
   "outputs": [
    {
     "output_type": "execute_result",
     "data": {
      "text/plain": [
       "60.0"
      ]
     },
     "metadata": {},
     "execution_count": 1
    }
   ],
   "source": [
    "import numpy as np\n",
    "V1 = 20000\n",
    "V0 = 20\n",
    "G = 20*np.log10(V1/V0) \n",
    "G"
   ]
  },
  {
   "source": [
    "### 2"
   ],
   "cell_type": "markdown",
   "metadata": {}
  },
  {
   "cell_type": "code",
   "execution_count": 2,
   "metadata": {},
   "outputs": [
    {
     "output_type": "execute_result",
     "data": {
      "text/plain": [
       "0.09999999999999999"
      ]
     },
     "metadata": {},
     "execution_count": 2
    }
   ],
   "source": [
    "G1 = 30\n",
    "G2 = 50\n",
    "def pressure(G):                # calculate V1\n",
    "    V1 = np.power(10,G/20) * V0\n",
    "    return V1 \n",
    "factor = pressure(G1)/pressure(G2)\n",
    "factor"
   ]
  },
  {
   "cell_type": "code",
   "execution_count": null,
   "metadata": {},
   "outputs": [],
   "source": []
  }
 ]
}