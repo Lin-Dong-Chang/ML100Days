{
 "metadata": {
  "language_info": {
   "codemirror_mode": {
    "name": "ipython",
    "version": 3
   },
   "file_extension": ".py",
   "mimetype": "text/x-python",
   "name": "python",
   "nbconvert_exporter": "python",
   "pygments_lexer": "ipython3",
   "version": "3.9.1-final"
  },
  "orig_nbformat": 2,
  "kernelspec": {
   "name": "python3",
   "display_name": "Python 3",
   "language": "python"
  }
 },
 "nbformat": 4,
 "nbformat_minor": 2,
 "cells": [
  {
   "source": [
    "### 成績有缺值"
   ],
   "cell_type": "markdown",
   "metadata": {}
  },
  {
   "cell_type": "code",
   "execution_count": 1,
   "metadata": {},
   "outputs": [],
   "source": [
    "import numpy as np\n",
    "english_score = np.array([55,89,76,65,48,70])\n",
    "math_score = np.array([60,85,60,68,np.nan,60])\n",
    "chinese_score = np.array([65,90,82,72,66,77])"
   ]
  },
  {
   "source": [
    "#### 1 各科平均 最大值 標準差 缺資料可忽略"
   ],
   "cell_type": "markdown",
   "metadata": {}
  },
  {
   "cell_type": "code",
   "execution_count": 2,
   "metadata": {},
   "outputs": [
    {
     "output_type": "stream",
     "name": "stdout",
     "text": [
      "英文\nmean :  67.16666666666667 \nmax :  89 \nstd :  13.433995020924426\n數學\nmean :  66.6 \nmax :  85.0 \nstd :  9.707728879609279\n國文\nmean :  75.33333333333333 \nmax :  90 \nstd :  8.825468196582484\n"
     ]
    }
   ],
   "source": [
    "print(\"英文\")\n",
    "print(\"mean : \",np.nanmean(english_score),\"\\nmax : \",np.nanmax(english_score),\"\\nstd : \",np.nanstd(english_score))\n",
    "print(\"數學\")\n",
    "print(\"mean : \",np.nanmean(math_score),\"\\nmax : \",np.nanmax(math_score),\"\\nstd : \",np.nanstd(math_score))\n",
    "print(\"國文\")\n",
    "print(\"mean : \",np.nanmean(chinese_score),\"\\nmax : \",np.nanmax(chinese_score),\"\\nstd : \",np.nanstd(chinese_score))\n"
   ]
  },
  {
   "source": [
    "#### 2 第五位同學補考數學後成績為 55，請計算補考後數學成績平均、最大值、最小值、標準差？"
   ],
   "cell_type": "markdown",
   "metadata": {}
  },
  {
   "cell_type": "code",
   "execution_count": 3,
   "metadata": {},
   "outputs": [
    {
     "output_type": "stream",
     "name": "stdout",
     "text": [
      "mean :  64.66666666666667 \nmax :  85.0 \nmin :  55.0 \nstd :  9.860132971832694\n"
     ]
    }
   ],
   "source": [
    "math_score[np.where(np.isnan(math_score))[0]]=55\n",
    "print(\"mean : \",np.mean(math_score),\"\\nmax : \",np.max(math_score),\"\\nmin : \",np.min(math_score),\"\\nstd : \",np.std(math_score))\n"
   ]
  },
  {
   "source": [
    "#### 3 用補考後資料找出與國文成績相關係數最高的學科？\n"
   ],
   "cell_type": "markdown",
   "metadata": {}
  },
  {
   "cell_type": "code",
   "execution_count": 4,
   "metadata": {},
   "outputs": [
    {
     "output_type": "execute_result",
     "data": {
      "text/plain": [
       "array([[1.        , 0.74056803],\n",
       "       [0.74056803, 1.        ]])"
      ]
     },
     "metadata": {},
     "execution_count": 4
    }
   ],
   "source": [
    "np.corrcoef(math_score,chinese_score)"
   ]
  },
  {
   "cell_type": "code",
   "execution_count": 5,
   "metadata": {},
   "outputs": [
    {
     "output_type": "execute_result",
     "data": {
      "text/plain": [
       "array([[1.        , 0.97792828],\n",
       "       [0.97792828, 1.        ]])"
      ]
     },
     "metadata": {},
     "execution_count": 5
    }
   ],
   "source": [
    "np.corrcoef(english_score,chinese_score)  #英文的相關係數比較高"
   ]
  },
  {
   "cell_type": "code",
   "execution_count": null,
   "metadata": {},
   "outputs": [],
   "source": []
  }
 ]
}