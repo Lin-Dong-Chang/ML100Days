{
 "metadata": {
  "language_info": {
   "codemirror_mode": {
    "name": "ipython",
    "version": 3
   },
   "file_extension": ".py",
   "mimetype": "text/x-python",
   "name": "python",
   "nbconvert_exporter": "python",
   "pygments_lexer": "ipython3",
   "version": "3.8.6-final"
  },
  "orig_nbformat": 2,
  "kernelspec": {
   "name": "python3",
   "display_name": "Python 3",
   "language": "python"
  }
 },
 "nbformat": 4,
 "nbformat_minor": 2,
 "cells": [
  {
   "cell_type": "code",
   "execution_count": 1,
   "metadata": {},
   "outputs": [
    {
     "output_type": "execute_result",
     "data": {
      "text/plain": [
       "   student_id  math_score  english_score  chinese_score\n",
       "0           1          56             66             70\n",
       "1           2          90             45             34\n",
       "2           3          45             32             55\n",
       "3           4          70             77             89\n",
       "4           5          56             80             70\n",
       "5           6          60             54             55\n",
       "6           7          45             70             79\n",
       "7           8          34             77             76\n",
       "8           9          25             87             60\n",
       "9          10          88             40             43"
      ],
      "text/html": "<div>\n<style scoped>\n    .dataframe tbody tr th:only-of-type {\n        vertical-align: middle;\n    }\n\n    .dataframe tbody tr th {\n        vertical-align: top;\n    }\n\n    .dataframe thead th {\n        text-align: right;\n    }\n</style>\n<table border=\"1\" class=\"dataframe\">\n  <thead>\n    <tr style=\"text-align: right;\">\n      <th></th>\n      <th>student_id</th>\n      <th>math_score</th>\n      <th>english_score</th>\n      <th>chinese_score</th>\n    </tr>\n  </thead>\n  <tbody>\n    <tr>\n      <th>0</th>\n      <td>1</td>\n      <td>56</td>\n      <td>66</td>\n      <td>70</td>\n    </tr>\n    <tr>\n      <th>1</th>\n      <td>2</td>\n      <td>90</td>\n      <td>45</td>\n      <td>34</td>\n    </tr>\n    <tr>\n      <th>2</th>\n      <td>3</td>\n      <td>45</td>\n      <td>32</td>\n      <td>55</td>\n    </tr>\n    <tr>\n      <th>3</th>\n      <td>4</td>\n      <td>70</td>\n      <td>77</td>\n      <td>89</td>\n    </tr>\n    <tr>\n      <th>4</th>\n      <td>5</td>\n      <td>56</td>\n      <td>80</td>\n      <td>70</td>\n    </tr>\n    <tr>\n      <th>5</th>\n      <td>6</td>\n      <td>60</td>\n      <td>54</td>\n      <td>55</td>\n    </tr>\n    <tr>\n      <th>6</th>\n      <td>7</td>\n      <td>45</td>\n      <td>70</td>\n      <td>79</td>\n    </tr>\n    <tr>\n      <th>7</th>\n      <td>8</td>\n      <td>34</td>\n      <td>77</td>\n      <td>76</td>\n    </tr>\n    <tr>\n      <th>8</th>\n      <td>9</td>\n      <td>25</td>\n      <td>87</td>\n      <td>60</td>\n    </tr>\n    <tr>\n      <th>9</th>\n      <td>10</td>\n      <td>88</td>\n      <td>40</td>\n      <td>43</td>\n    </tr>\n  </tbody>\n</table>\n</div>"
     },
     "metadata": {},
     "execution_count": 1
    }
   ],
   "source": [
    "import pandas as pd\n",
    "score_df = pd.DataFrame([[1,56,66,70], [2,90,45,34], [3,45,32,55], [4,70,77,89], [5,56,80,70], [6,60,54,55], [7,45,70,79], [8,34,77,76], [9,25,87,60], [10,88,40,43]],columns=['student_id','math_score','english_score','chinese_score'])\n",
    "score_df\n"
   ]
  },
  {
   "source": [
    "### 對以下成績資料做分析\n",
    "#### 6號學生(student_id=6) 3 科平均分數為何？"
   ],
   "cell_type": "markdown",
   "metadata": {}
  },
  {
   "cell_type": "code",
   "execution_count": 2,
   "metadata": {},
   "outputs": [
    {
     "output_type": "execute_result",
     "data": {
      "text/plain": [
       "56.333333333333336"
      ]
     },
     "metadata": {},
     "execution_count": 2
    }
   ],
   "source": [
    "score_df = score_df.set_index('student_id')\n",
    "score_df.loc[score_df.index == 6].mean(axis=1)[6]"
   ]
  },
  {
   "source": [
    "#### 6號學生 3 科平均分數是否有贏過班上一半的同學？\n"
   ],
   "cell_type": "markdown",
   "metadata": {}
  },
  {
   "cell_type": "code",
   "execution_count": 3,
   "metadata": {},
   "outputs": [
    {
     "output_type": "stream",
     "name": "stdout",
     "text": [
      "no\n"
     ]
    }
   ],
   "source": [
    "if score_df.loc[score_df.index == 6].mean(axis=1)[6] > score_df.mean(axis=1).median():\n",
    "    print('yes')\n",
    "else:\n",
    "    print('no')\n"
   ]
  },
  {
   "source": [
    "#### 由於班上同學成績不好，所以學校統一加分，加分方式為開根號乘以十，請問 6 號同學 3 科成績分別是？\n"
   ],
   "cell_type": "markdown",
   "metadata": {}
  },
  {
   "cell_type": "code",
   "execution_count": 4,
   "metadata": {},
   "outputs": [
    {
     "output_type": "execute_result",
     "data": {
      "text/plain": [
       "(            math_score  english_score  chinese_score\n",
       " student_id                                          \n",
       " 1            74.833148      81.240384      83.666003\n",
       " 2            94.868330      67.082039      58.309519\n",
       " 3            67.082039      56.568542      74.161985\n",
       " 4            83.666003      87.749644      94.339811\n",
       " 5            74.833148      89.442719      83.666003\n",
       " 6            77.459667      73.484692      74.161985\n",
       " 7            67.082039      83.666003      88.881944\n",
       " 8            58.309519      87.749644      87.177979\n",
       " 9            50.000000      93.273791      77.459667\n",
       " 10           93.808315      63.245553      65.574385,\n",
       " math_score       77.459667\n",
       " english_score    73.484692\n",
       " chinese_score    74.161985\n",
       " Name: 6, dtype: float64)"
      ]
     },
     "metadata": {},
     "execution_count": 4
    }
   ],
   "source": [
    "score_df = score_df.apply(lambda x : x**(0.5) *10)\n",
    "score_df, score_df.loc[6]"
   ]
  },
  {
   "source": [
    "#### 承上題，加分後各科班平均變多少？"
   ],
   "cell_type": "markdown",
   "metadata": {}
  },
  {
   "cell_type": "code",
   "execution_count": 5,
   "metadata": {},
   "outputs": [
    {
     "output_type": "execute_result",
     "data": {
      "text/plain": [
       "math_score       74.194221\n",
       "english_score    78.350301\n",
       "chinese_score    78.739928\n",
       "dtype: float64"
      ]
     },
     "metadata": {},
     "execution_count": 5
    }
   ],
   "source": [
    "score_df.mean()"
   ]
  },
  {
   "cell_type": "code",
   "execution_count": null,
   "metadata": {},
   "outputs": [],
   "source": []
  }
 ]
}