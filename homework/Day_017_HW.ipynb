{
 "metadata": {
  "language_info": {
   "codemirror_mode": {
    "name": "ipython",
    "version": 3
   },
   "file_extension": ".py",
   "mimetype": "text/x-python",
   "name": "python",
   "nbconvert_exporter": "python",
   "pygments_lexer": "ipython3",
   "version": 3
  },
  "orig_nbformat": 2
 },
 "nbformat": 4,
 "nbformat_minor": 2,
 "cells": [
  {
   "source": [
    "### 1. 在速度較慢的時候，可以先從哪邊開始檢查？\n",
    "\n"
   ],
   "cell_type": "markdown",
   "metadata": {}
  },
  {
   "source": [
    "#### 可以先看讀取的資料型態 ex不要選excel\n",
    "#### 使用內建函數 ex: agg and transform\n",
    "#### 向量化的資料處理 ex isin()"
   ],
   "cell_type": "markdown",
   "metadata": {}
  },
  {
   "source": [
    "### 2. 資料過大時應採取什麼方式讓記憶體占用量下降？\n"
   ],
   "cell_type": "markdown",
   "metadata": {}
  },
  {
   "source": [
    "#### 把data type 降級 ex: float64 -> float16 使用更少位數去描述一個值"
   ],
   "cell_type": "markdown",
   "metadata": {}
  }
 ]
}