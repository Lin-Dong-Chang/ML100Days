{
 "metadata": {
  "language_info": {
   "codemirror_mode": {
    "name": "ipython",
    "version": 3
   },
   "file_extension": ".py",
   "mimetype": "text/x-python",
   "name": "python",
   "nbconvert_exporter": "python",
   "pygments_lexer": "ipython3",
   "version": "3.9.1-final"
  },
  "orig_nbformat": 2,
  "kernelspec": {
   "name": "python3",
   "display_name": "Python 3",
   "language": "python"
  }
 },
 "nbformat": 4,
 "nbformat_minor": 2,
 "cells": [
  {
   "cell_type": "code",
   "execution_count": 1,
   "metadata": {},
   "outputs": [],
   "source": [
    "name_list = ['小明','小華','小菁','小美','小張','John','Mark','Tom']\n",
    "sex_list = ['boy','boy','girl','girl','boy','boy','boy','boy']\n",
    "weight_list = [67.5,75.3,50.1,45.5,80.8,90.4,78.4,70.7]\n",
    "rank_list = [8,1,5,4,7,6,2,3]\n",
    "myopia_list = [True,True,False,False,True,True,False,False]\n"
   ]
  },
  {
   "source": [
    "#### 將上列 list 依照['name', 'sex', 'weight', 'rank', 'myopia']順序擺入 array，並且資料型態順序擺入[Unicode,Unicode,float,int,boolean]"
   ],
   "cell_type": "markdown",
   "metadata": {}
  },
  {
   "cell_type": "code",
   "execution_count": 2,
   "metadata": {},
   "outputs": [],
   "source": [
    "import numpy as np\n",
    "data = {'name': name_list,\n",
    "        'sex':sex_list,\n",
    "        'weight':weight_list,\n",
    "        'rank':rank_list,\n",
    "        'myopia':myopia_list}"
   ]
  },
  {
   "cell_type": "code",
   "execution_count": 3,
   "metadata": {},
   "outputs": [
    {
     "output_type": "stream",
     "name": "stdout",
     "text": [
      "[('小明', 'boy', 67.5, 8,  True) ('小華', 'boy', 75.3, 1,  True)\n ('小菁', 'girl', 50.1, 5, False) ('小美', 'girl', 45.5, 4, False)\n ('小張', 'boy', 80.8, 7,  True) ('John', 'boy', 90.4, 6,  True)\n ('Mark', 'boy', 78.4, 2, False) ('Tom', 'boy', 70.7, 3, False)]\n"
     ]
    }
   ],
   "source": [
    "dt = np.dtype({'names':('name', 'sex', 'weight', 'rank','myopia'), 'formats':('U8', 'U8', np.float16, np.int8, np.bool_)})\n",
    "\n",
    "structure_array = np.zeros(len(name_list),dtype = dt)\n",
    "for key,value in data.items():\n",
    "    structure_array[key] = value\n",
    "print(structure_array)"
   ]
  },
  {
   "source": [
    "#### 將 array 中體重(weight)數據集取出算出全部平均體重"
   ],
   "cell_type": "markdown",
   "metadata": {}
  },
  {
   "cell_type": "code",
   "execution_count": 4,
   "metadata": {},
   "outputs": [
    {
     "output_type": "execute_result",
     "data": {
      "text/plain": [
       "69.8"
      ]
     },
     "metadata": {},
     "execution_count": 4
    }
   ],
   "source": [
    "avg_weight = np.mean(structure_array['weight'])\n",
    "avg_weight"
   ]
  },
  {
   "source": [
    "#### 進一步算出男生(sex 欄位是 boy)平均體重、女生(sex 欄位是 girl)平均體重"
   ],
   "cell_type": "markdown",
   "metadata": {}
  },
  {
   "cell_type": "code",
   "execution_count": 6,
   "metadata": {},
   "outputs": [
    {
     "output_type": "stream",
     "name": "stdout",
     "text": [
      "boy平均體重:  77.2\ngirl平均體重:  47.8\n"
     ]
    }
   ],
   "source": [
    "boy_avgw = np.mean(structure_array['weight'][np.where(structure_array['sex']=='boy')[0]])\n",
    "girl_avgw = np.mean(structure_array['weight'][np.where(structure_array['sex']=='girl')[0]])\n",
    "\n",
    "print(\"boy平均體重: \", boy_avgw)\n",
    "print(\"girl平均體重: \", girl_avgw)\n"
   ]
  },
  {
   "cell_type": "code",
   "execution_count": null,
   "metadata": {},
   "outputs": [],
   "source": []
  }
 ]
}